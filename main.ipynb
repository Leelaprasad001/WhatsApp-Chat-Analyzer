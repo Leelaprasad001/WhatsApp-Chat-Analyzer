{
 "cells": [
  {
   "cell_type": "code",
   "execution_count": null,
   "metadata": {},
   "outputs": [],
   "source": [
    "#Importing Libraries\n",
    "import re\n",
    "import pandas as pd\n",
    "import numpy as np\n",
    "import matplotlib.pyplot as plt"
   ]
  },
  {
   "cell_type": "code",
   "execution_count": null,
   "metadata": {},
   "outputs": [],
   "source": [
    "# #read the text file\n",
    "# path = \"data2.txt\"\n",
    "# f = open(path, 'r', encoding='utf-8')\n",
    "# data = f.read()\n",
    "# print(data)"
   ]
  },
  {
   "cell_type": "code",
   "execution_count": null,
   "metadata": {},
   "outputs": [],
   "source": [
    "#read the text file\n",
    "d = open('data3.txt','r',encoding='utf-8')\n",
    "data = d.read()\n",
    "data "
   ]
  },
  {
   "cell_type": "code",
   "execution_count": null,
   "metadata": {},
   "outputs": [],
   "source": [
    "\n",
    "# Regular expression pattern\n",
    "pattern = r'(\\d{1,2}\\/\\d{1,2}\\/\\d{2}),?\\s(\\d{1,2}:\\d{2})\\s?(am|pm)?\\s-\\s(.+?):\\s(.+)'\n",
    "\n",
    "# Create an empty list to store the rows of the DataFrame\n",
    "rows = []\n",
    "\n",
    "# Loop over the messages and extract the date, time, am/pm, username, and message using the pattern\n",
    "for message in data.split('\\n'):\n",
    "    match = re.search(pattern, message)\n",
    "    if match is not None:\n",
    "        date = match.group(1)\n",
    "        time = match.group(2)\n",
    "        ampm = match.group(3)\n",
    "        username = match.group(4)\n",
    "        msg = match.group(5)\n",
    "    \n",
    "        # Append the row to the list\n",
    "        rows.append({\n",
    "            'only_date': date,\n",
    "            't': time,\n",
    "            'ampm' : ampm,\n",
    "            'username': username,\n",
    "            'message': msg\n",
    "        })\n",
    "\n",
    "# Create a Pandas DataFrame from the list of rows\n",
    "df = pd.DataFrame(rows)"
   ]
  },
  {
   "cell_type": "code",
   "execution_count": null,
   "metadata": {},
   "outputs": [],
   "source": [
    "df['only_date'] = pd.to_datetime(df['only_date'], format='%d/%m/%y')\n",
    "# Convert the date column to the '%Y-%m-%d' format\n",
    "df['only_date'] = df['only_date'].dt.strftime('%Y-%m-%d')"
   ]
  },
  {
   "cell_type": "code",
   "execution_count": null,
   "metadata": {},
   "outputs": [],
   "source": [
    "# converting into 24hrs\n",
    "df['time'] = df.apply(lambda x: f\"{x['t']} {x['ampm']}\", axis=1)\n",
    "\n",
    "df = df.drop(['t', 'ampm'], axis=1)"
   ]
  },
  {
   "cell_type": "code",
   "execution_count": null,
   "metadata": {},
   "outputs": [],
   "source": [
    "def convert_time(time_str):\n",
    "    time_obj = pd.to_datetime(time_str, format='%I:%M %p')\n",
    "    return time_obj.strftime('%H:%M')\n",
    "\n",
    "df['only_time'] = df['time'].apply(convert_time)\n",
    "\n",
    "# Drop the original 'time' column if desired\n",
    "df = df.drop('time', axis=1)\n"
   ]
  },
  {
   "cell_type": "code",
   "execution_count": null,
   "metadata": {},
   "outputs": [],
   "source": [
    "# converting into 24hrs\n",
    "df['date'] = df.apply(lambda x: f\"{x['only_date']} {x['only_time']}\", axis=1)"
   ]
  },
  {
   "cell_type": "code",
   "execution_count": null,
   "metadata": {},
   "outputs": [],
   "source": [
    "df[['year', 'month_num', 'day']] = df['only_date'].str.split('-', expand=True)\n"
   ]
  },
  {
   "cell_type": "code",
   "execution_count": null,
   "metadata": {},
   "outputs": [],
   "source": [
    "# Convert the month number to month name\n",
    "df['month'] = pd.to_datetime(df['month_num'], format='%m').dt.strftime('%B')\n",
    "\n",
    "# Convert the date to day name\n",
    "df['day_name'] = pd.to_datetime(df['only_date']).dt.strftime('%A')"
   ]
  },
  {
   "cell_type": "code",
   "execution_count": null,
   "metadata": {},
   "outputs": [],
   "source": [
    "# Split the time column into two separate columns for hour and minute\n",
    "df[['hour', 'minute']] = df['only_time'].str.split(':', expand=True)"
   ]
  },
  {
   "cell_type": "code",
   "execution_count": null,
   "metadata": {},
   "outputs": [],
   "source": [
    "df"
   ]
  },
  {
   "cell_type": "code",
   "execution_count": null,
   "metadata": {},
   "outputs": [],
   "source": [
    "#add period column that shows data capture between which 24 hour format\n",
    "period = []\n",
    "for hour in df[['day_name', 'hour']]['hour']:\n",
    "    h = int(hour)+1\n",
    "    if hour == 23:\n",
    "        period.append(str(hour) + \"-\" + str('00'))\n",
    "    elif hour == 0:\n",
    "        period.append(str('00') + \"-\" + str(hour + 1))\n",
    "    else:\n",
    "        period.append(str(hour) + \"-\" + str(h))\n",
    "df['period'] = period"
   ]
  },
  {
   "cell_type": "code",
   "execution_count": null,
   "metadata": {},
   "outputs": [],
   "source": [
    "df"
   ]
  },
  {
   "cell_type": "code",
   "execution_count": null,
   "metadata": {},
   "outputs": [],
   "source": [
    "#Total Messages\n",
    "df.shape[0]"
   ]
  },
  {
   "cell_type": "code",
   "execution_count": null,
   "metadata": {},
   "outputs": [],
   "source": [
    "#Total Number of words\n",
    "words = []\n",
    "for message in df['message']:\n",
    "  words.extend(message.split())\n",
    "\n",
    "print(len(words))"
   ]
  },
  {
   "cell_type": "code",
   "execution_count": null,
   "metadata": {},
   "outputs": [],
   "source": [
    "#Number of Media Files shared\n",
    "df[df['message'] == '<Media omitted>'].shape[0]"
   ]
  },
  {
   "cell_type": "code",
   "execution_count": null,
   "metadata": {},
   "outputs": [],
   "source": []
  },
  {
   "cell_type": "code",
   "execution_count": null,
   "metadata": {},
   "outputs": [],
   "source": [
    "#Number of Links Shared\n",
    "from urlextract import URLExtract\n",
    "extract = URLExtract()\n",
    "\n",
    "links = []\n",
    "for message in df['message']:\n",
    "    links.extend(extract.find_urls(message))\n",
    "\n",
    "print(len(links))"
   ]
  },
  {
   "cell_type": "code",
   "execution_count": null,
   "metadata": {},
   "outputs": [],
   "source": [
    "import matplotlib.pyplot as plt\n",
    "\n",
    "x = df['username'].value_counts()\n",
    "user_names = x.index\n",
    "msg_count = x.values\n",
    "\n",
    "plt.bar(user_names, msg_count)\n",
    "plt.xticks(rotation='vertical')\n",
    "plt.show()"
   ]
  },
  {
   "cell_type": "code",
   "execution_count": null,
   "metadata": {},
   "outputs": [],
   "source": [
    "new_df = round(((df['username'].value_counts() / df.shape[0]) * 100), 2).reset_index().rename(\n",
    "        columns={'index': 'name', 'user': 'percent'})\n",
    "\n",
    "new_df"
   ]
  },
  {
   "cell_type": "code",
   "execution_count": null,
   "metadata": {},
   "outputs": [],
   "source": []
  },
  {
   "cell_type": "code",
   "execution_count": null,
   "metadata": {},
   "outputs": [],
   "source": [
    "import string\n",
    "\n",
    "def remove_stop_words(message):\n",
    "  f = open('stop_hinglish.txt', 'r')\n",
    "  stop_words = f.read()\n",
    "  y = []\n",
    "  for word in message.lower().split():\n",
    "      if word not in stop_words:\n",
    "          y.append(word)\n",
    "  return \" \".join(y)\n",
    "\n",
    "def remove_punctuation(message):\n",
    "  x = re.sub('[%s]'% re.escape(string.punctuation), '', message)\n",
    "  return x\n",
    "\n",
    "#Data Cleaning\n",
    "temp = df[df['username'] != 'group_notification'] #remove group notification\n",
    "temp = temp[temp['message'] != '<Media omitted>'] #remove media message\n",
    "temp['message'] = temp['message'].apply(remove_stop_words) #remove stopwords\n",
    "temp['message'] = temp['message'].apply(remove_punctuation) #remove punctuations\n",
    "\n",
    "#Draw the wordCloud\n",
    "from wordcloud import WordCloud\n",
    "plt.figure(figsize=(20, 10))\n",
    "wc = WordCloud(width=1000,height=750,min_font_size=10,background_color='white')\n",
    "cloud = wc.generate(temp['message'].str.cat(sep=\" \"))\n",
    "plt.imshow(cloud)"
   ]
  },
  {
   "cell_type": "code",
   "execution_count": null,
   "metadata": {},
   "outputs": [],
   "source": [
    "#Find the Top 20 Most Common Words\n",
    "\n",
    "temp = df[df['username'] != 'group_notification'] #remove group notification\n",
    "temp = temp[temp['message'] != '<media omitted>']  #remove media msg\n",
    "temp['message'] = temp['message'].apply(remove_stop_words) #remove stop words\n",
    "temp['message'] = temp['message'].apply(remove_punctuation) #remove punctuations\n",
    "\n",
    "words = []\n",
    "for message in temp['message']:\n",
    "  words.extend(message.split())\n",
    "\n",
    "#apply counter\n",
    "from collections import Counter\n",
    "most_common_df = pd.DataFrame(Counter(words).most_common(20))\n",
    "most_common_df"
   ]
  },
  {
   "cell_type": "code",
   "execution_count": null,
   "metadata": {},
   "outputs": [],
   "source": []
  },
  {
   "cell_type": "code",
   "execution_count": null,
   "metadata": {},
   "outputs": [],
   "source": [
    "import emoji\n",
    "\n",
    "emojis = []\n",
    "for message in df['message']:\n",
    "  emojis.extend([c for c in message if c in emoji.EMOJI_DATA])\n",
    "\n",
    "pd.DataFrame(Counter(emojis).most_common(len(Counter(emojis))))"
   ]
  },
  {
   "cell_type": "code",
   "execution_count": null,
   "metadata": {},
   "outputs": [],
   "source": [
    "#Time-based Analysis\n",
    "\n",
    "#Monthly Chats Timeline\n",
    "\n",
    "timeline = df.groupby(['year', 'month_num', 'month']).count()['message'].reset_index()\n",
    "month_timeline = []\n",
    "\n",
    "for i in range(timeline.shape[0]):\n",
    "  month_timeline.append(timeline['month'][i] + \"-\" + str(timeline['year'][i]))\n",
    "\n",
    "timeline['time'] = month_timeline\n",
    "\n",
    "#draw plot\n",
    "plt.figure(figsize=(12,6))\n",
    "plt.plot(timeline['time'], timeline['message'])\n",
    "plt.xticks(rotation='vertical')\n",
    "plt.show()"
   ]
  },
  {
   "cell_type": "code",
   "execution_count": null,
   "metadata": {},
   "outputs": [],
   "source": [
    "#Daily Timeline\n",
    "\n",
    "daily_timeline = df.groupby('only_date').count()['message'].reset_index()\n",
    "\n",
    "plt.figure(figsize=(12,6))\n",
    "plt.plot(daily_timeline['only_date'], daily_timeline['message'])\n",
    "plt.show()\n"
   ]
  },
  {
   "cell_type": "code",
   "execution_count": null,
   "metadata": {},
   "outputs": [],
   "source": [
    "#Day-based Activity Map\n",
    "\n",
    "busy_day = df['day_name'].value_counts()\n",
    "plt.figure(figsize=(12, 6))\n",
    "plt.bar(busy_day.index, busy_day.values, color='purple')\n",
    "plt.title(\"Busy Day\")\n",
    "plt.xticks(rotation='vertical')\n",
    "plt.show()"
   ]
  },
  {
   "cell_type": "code",
   "execution_count": null,
   "metadata": {},
   "outputs": [],
   "source": [
    "#Monthly Activity Map\n",
    "\n",
    "busy_month = df['month'].value_counts()\n",
    "plt.figure(figsize=(12, 6))\n",
    "plt.bar(busy_month.index, busy_month.values, color='red')\n",
    "plt.title(\"Busy Month\")\n",
    "plt.xticks(rotation='vertical')\n",
    "plt.show()"
   ]
  },
  {
   "cell_type": "code",
   "execution_count": null,
   "metadata": {},
   "outputs": [],
   "source": [
    "#Which Time User Remains Active\n",
    "\n",
    "import seaborn as sns\n",
    "plt.figure(figsize=(18, 9))\n",
    "sns.heatmap(df.pivot_table(index='day_name', columns='period', values='message', \n",
    "            aggfunc='count').fillna(0))\n",
    "plt.yticks(rotation='vertical')\n",
    "plt.show()"
   ]
  },
  {
   "cell_type": "code",
   "execution_count": null,
   "metadata": {},
   "outputs": [],
   "source": []
  }
 ],
 "metadata": {
  "kernelspec": {
   "display_name": "Python 3",
   "language": "python",
   "name": "python3"
  },
  "language_info": {
   "codemirror_mode": {
    "name": "ipython",
    "version": 3
   },
   "file_extension": ".py",
   "mimetype": "text/x-python",
   "name": "python",
   "nbconvert_exporter": "python",
   "pygments_lexer": "ipython3",
   "version": "3.9.7"
  },
  "orig_nbformat": 4
 },
 "nbformat": 4,
 "nbformat_minor": 2
}
